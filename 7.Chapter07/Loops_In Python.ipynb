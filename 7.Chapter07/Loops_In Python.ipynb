{
 "cells": [
  {
   "cell_type": "code",
   "execution_count": 1,
   "metadata": {},
   "outputs": [
    {
     "name": "stdout",
     "output_type": "stream",
     "text": [
      "yes 0\n",
      "yes 1\n",
      "yes 2\n",
      "yes 3\n",
      "yes 4\n",
      "yes 5\n",
      "yes 6\n",
      "yes 7\n",
      "yes 8\n",
      "yes 9\n",
      "Done\n"
     ]
    }
   ],
   "source": [
    "r=0\n",
    "while r<10:\n",
    "    print(\"yes \" + str(r))\n",
    "    r = r + 1\n",
    "\n",
    "print(\"Done\")"
   ]
  },
  {
   "cell_type": "code",
   "execution_count": 2,
   "metadata": {},
   "outputs": [
    {
     "name": "stdout",
     "output_type": "stream",
     "text": [
      "AmitG\n",
      "AmitG\n",
      "AmitG\n",
      "AmitG\n",
      "AmitG\n"
     ]
    }
   ],
   "source": [
    "# Print name 5 times\n",
    "i = 0\n",
    "\n",
    "while i<5:\n",
    "    print(\"AmitG\")\n",
    "    i = i + 1"
   ]
  },
  {
   "cell_type": "code",
   "execution_count": 3,
   "metadata": {},
   "outputs": [
    {
     "name": "stdout",
     "output_type": "stream",
     "text": [
      "Banana\n",
      "Mango\n",
      "Apple\n",
      "Greps\n",
      "Watermalan\n"
     ]
    }
   ],
   "source": [
    "# print List\n",
    "friuts = ['Banana', 'Mango', 'Apple', 'Greps', 'Watermalan']\n",
    "i=0\n",
    "\n",
    "while i<len(friuts):\n",
    "    print(friuts[i])\n",
    "    i = i + 1\n"
   ]
  },
  {
   "cell_type": "markdown",
   "metadata": {},
   "source": []
  },
  {
   "cell_type": "code",
   "execution_count": 4,
   "metadata": {},
   "outputs": [
    {
     "name": "stdout",
     "output_type": "stream",
     "text": [
      "Banana\n",
      "Mango\n",
      "Apple\n",
      "Greps\n",
      "Watermalan\n"
     ]
    }
   ],
   "source": [
    "# For loop print list\n",
    "for item in friuts:\n",
    "    print(item)\n",
    "    "
   ]
  },
  {
   "cell_type": "code",
   "execution_count": 5,
   "metadata": {},
   "outputs": [
    {
     "name": "stdout",
     "output_type": "stream",
     "text": [
      "0\n",
      "1\n",
      "2\n",
      "3\n",
      "4\n",
      "5\n",
      "6\n",
      "7\n"
     ]
    },
    {
     "data": {
      "text/plain": [
       "'We can also specify the start, stop, and step-size as follows:\\n\\n            range(start, stop, step_size)\\n\\nstep size is usually not used with range()'"
      ]
     },
     "execution_count": 5,
     "metadata": {},
     "output_type": "execute_result"
    }
   ],
   "source": [
    "# Range function in loop\n",
    "for i in range(8):\n",
    "    print(i)\n",
    "\n",
    "'''We can also specify the start, stop, and step-size as follows:\n",
    "\n",
    "            range(start, stop, step_size)\n",
    "\n",
    "step size is usually not used with range()'''"
   ]
  },
  {
   "cell_type": "code",
   "execution_count": 6,
   "metadata": {},
   "outputs": [
    {
     "name": "stdout",
     "output_type": "stream",
     "text": [
      "0\n",
      "1\n",
      "2\n",
      "3\n",
      "4\n",
      "5\n",
      "6\n",
      "7\n",
      "8\n",
      "9\n",
      "10\n",
      "11\n",
      "12\n",
      "13\n",
      "14\n",
      "15\n"
     ]
    }
   ],
   "source": [
    "for i in range(0, 80):\n",
    "    print(i)\n",
    "    if i == 15:\n",
    "        break       "
   ]
  },
  {
   "cell_type": "code",
   "execution_count": 8,
   "metadata": {},
   "outputs": [
    {
     "name": "stdout",
     "output_type": "stream",
     "text": [
      "printing\n",
      "0\n",
      "printing\n",
      "1\n",
      "printing\n",
      "printing\n",
      "3\n"
     ]
    }
   ],
   "source": [
    "for i in range(4):\n",
    "\tprint(\"printing\")\n",
    "\tif i == 2:\t#if i is 2, the iteration is skipped\n",
    "\t\tcontinue\n",
    "\tprint(i)\n"
   ]
  },
  {
   "cell_type": "code",
   "execution_count": null,
   "metadata": {},
   "outputs": [],
   "source": []
  }
 ],
 "metadata": {
  "interpreter": {
   "hash": "190ecdb3167ea233f4da8a25f2ef3aedb590ac93a8884f4b11fd684b796a0176"
  },
  "kernelspec": {
   "display_name": "Python 3.10.0 64-bit",
   "name": "python3"
  },
  "language_info": {
   "codemirror_mode": {
    "name": "ipython",
    "version": 3
   },
   "file_extension": ".py",
   "mimetype": "text/x-python",
   "name": "python",
   "nbconvert_exporter": "python",
   "pygments_lexer": "ipython3",
   "version": "3.10.0"
  },
  "orig_nbformat": 4
 },
 "nbformat": 4,
 "nbformat_minor": 2
}
